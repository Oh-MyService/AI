{
 "cells": [
  {
   "cell_type": "code",
   "execution_count": 8,
   "metadata": {},
   "outputs": [
    {
     "name": "stderr",
     "output_type": "stream",
     "text": [
      "Fetching 18 files: 100%|██████████| 18/18 [01:27<00:00,  4.86s/it]\n",
      "Loading pipeline components...: 100%|██████████| 7/7 [00:00<00:00,  8.52it/s]\n"
     ]
    },
    {
     "name": "stdout",
     "output_type": "stream",
     "text": [
      "모델이 성공적으로 로드되었습니다.\n"
     ]
    },
    {
     "name": "stderr",
     "output_type": "stream",
     "text": [
      "100%|██████████| 50/50 [02:07<00:00,  2.55s/it]\n"
     ]
    }
   ],
   "source": [
    "from diffusers import DiffusionPipeline\n",
    "import torch\n",
    "from PIL import Image\n",
    "\n",
    "# 모델 이름\n",
    "model_name = \"stabilityai/sdxl-turbo\"\n",
    "\n",
    "try:\n",
    "    # 모델 로드 (모델을 GPU로 이동)\n",
    "    pipeline = DiffusionPipeline.from_pretrained(\n",
    "        model_name, \n",
    "        torch_dtype=torch.float16,  # float16 사용으로 GPU 메모리 효율화\n",
    "        variant=\"fp16\"  # 16-bit floating point 사용\n",
    "    ).to('cuda')  # 모델을 GPU로 이동\n",
    "    print(\"모델이 성공적으로 로드되었습니다.\")\n",
    "\n",
    "    # 이미지 생성\n",
    "    prompt = \"A high-resolution digital painting of a futuristic city skyline at sunset, highly detailed\"\n",
    "    negative_prompt = \"low quality, blurry, deformed, bad anatomy\"\n",
    "\n",
    "    generator = torch.Generator(device='cuda').manual_seed(1)\n",
    "    \n",
    "    # pipeline을 통해 이미지 생성\n",
    "    images = pipeline(\n",
    "        prompt=prompt,  # 프롬프트는 문자열로 전달\n",
    "        negative_prompt=negative_prompt,  # 부정 프롬프트도 문자열로 전달\n",
    "        width=512,\n",
    "        height=512,\n",
    "        num_inference_steps=50,\n",
    "        guidance_scale=7.5,  # 일반적으로 사용하는 값\n",
    "        generator=generator  # GPU에서 생성된 seed 사용\n",
    "    ).images\n",
    "\n",
    "    # 생성된 이미지를 표시\n",
    "    for i, image in enumerate(images):\n",
    "        image.show(title=f\"Generated Image {i+1}\")\n",
    "\n",
    "except Exception as e:\n",
    "    print(f\"모델 로드 중 오류 발생: {e}\")\n"
   ]
  },
  {
   "cell_type": "code",
   "execution_count": null,
   "metadata": {},
   "outputs": [],
   "source": []
  }
 ],
 "metadata": {
  "kernelspec": {
   "display_name": "base",
   "language": "python",
   "name": "python3"
  },
  "language_info": {
   "codemirror_mode": {
    "name": "ipython",
    "version": 3
   },
   "file_extension": ".py",
   "mimetype": "text/x-python",
   "name": "python",
   "nbconvert_exporter": "python",
   "pygments_lexer": "ipython3",
   "version": "3.9.7"
  }
 },
 "nbformat": 4,
 "nbformat_minor": 2
}
