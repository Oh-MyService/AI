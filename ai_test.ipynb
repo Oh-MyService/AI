{
 "cells": [
  {
   "cell_type": "code",
   "execution_count": 13,
   "metadata": {},
   "outputs": [
    {
     "name": "stderr",
     "output_type": "stream",
     "text": [
      "Loading pipeline components...: 100%|██████████| 7/7 [00:00<00:00,  9.39it/s]\n"
     ]
    },
    {
     "name": "stdout",
     "output_type": "stream",
     "text": [
      "모델이 성공적으로 로드되었습니다.\n"
     ]
    },
    {
     "name": "stderr",
     "output_type": "stream",
     "text": [
      "100%|██████████| 50/50 [02:21<00:00,  2.83s/it]\n"
     ]
    }
   ],
   "source": [
    "import os\n",
    "import logging\n",
    "import mysql.connector\n",
    "from mysql.connector import Error\n",
    "from datetime import datetime\n",
    "import torch\n",
    "from diffusers import DiffusionPipeline\n",
    "from diffusers.models.lora import LoRACompatibleConv\n",
    "from celery import Celery\n",
    "import json\n",
    "from typing import Optional  # <-- Add this import\n",
    "from PIL import Image\n",
    "\n",
    "# 모델 이름\n",
    "model_name = \"stabilityai/sdxl-turbo\"\n",
    "\n",
    "def seamless_tiling(pipeline, x_axis, y_axis):\n",
    "    def asymmetric_conv2d_convforward(self, input: torch.Tensor, weight: torch.Tensor, bias: Optional[torch.Tensor] = None):\n",
    "        self.paddingX = (self._reversed_padding_repeated_twice[0], self._reversed_padding_repeated_twice[1], 0, 0)\n",
    "        self.paddingY = (0, 0, self._reversed_padding_repeated_twice[2], self._reversed_padding_repeated_twice[3])\n",
    "        working = torch.nn.functional.pad(input, self.paddingX, mode=x_mode)\n",
    "        working = torch.nn.functional.pad(working, self.paddingY, mode=y_mode)\n",
    "        return torch.nn.functional.conv2d(working, weight, bias, self.stride, torch.nn.modules.utils._pair(0), self.dilation, self.groups)\n",
    "\n",
    "    # Set padding mode\n",
    "    x_mode = 'circular' if x_axis else 'constant'\n",
    "    y_mode = 'circular' if y_axis else 'constant'\n",
    "\n",
    "    targets = [pipeline.vae, pipeline.text_encoder, pipeline.unet]\n",
    "    convolution_layers = []\n",
    "    for target in targets:\n",
    "        for module in target.modules():\n",
    "            if isinstance(module, torch.nn.Conv2d):\n",
    "                convolution_layers.append(module)\n",
    "\n",
    "    for layer in convolution_layers:\n",
    "        if isinstance(layer, LoRACompatibleConv) and layer.lora_layer is None:\n",
    "            layer.lora_layer = lambda * x: 0\n",
    "\n",
    "        layer._conv_forward = asymmetric_conv2d_convforward.__get__(layer, torch.nn.Conv2d)\n",
    "\n",
    "    return pipeline\n",
    "\n",
    "try:\n",
    "    # 모델 로드 (모델을 GPU로 이동)\n",
    "    pipeline = DiffusionPipeline.from_pretrained(\n",
    "        model_name, \n",
    "        torch_dtype=torch.float16,  # float16 사용으로 GPU 메모리 효율화\n",
    "        variant=\"fp16\"  # 16-bit floating point 사용\n",
    "    ).to('cuda')  # 모델을 GPU로 이동\n",
    "    print(\"모델이 성공적으로 로드되었습니다.\")\n",
    "    \n",
    "    pipeline = seamless_tiling(pipeline=pipeline, x_axis=True, y_axis=True)\n",
    "\n",
    "    # 이미지 생성\n",
    "    prompt = \"seamless cat fabric textile pattern\"\n",
    "    negative_prompt = \"low quality, blurry, deformed, bad anatomy\"\n",
    "\n",
    "    generator = torch.Generator(device='cuda').manual_seed(1)\n",
    "    \n",
    "    # pipeline을 통해 이미지 생성\n",
    "    images = pipeline(\n",
    "        prompt=prompt,  # 프롬프트는 문자열로 전달\n",
    "        negative_prompt=negative_prompt,  # 부정 프롬프트도 문자열로 전달\n",
    "        width=512,\n",
    "        height=512,\n",
    "        num_inference_steps=50,\n",
    "        guidance_scale=7.5,  # 일반적으로 사용하는 값\n",
    "        num_images_per_prompt=1,\n",
    "        generator=generator  # GPU에서 생성된 seed 사용\n",
    "    ).images\n",
    "\n",
    "    # 생성된 이미지를 표시\n",
    "    for i, image in enumerate(images):\n",
    "        image.show(title=f\"Generated Image {i+1}\")\n",
    "\n",
    "    # Reset seamless tiling\n",
    "    seamless_tiling(pipeline=pipeline, x_axis=False, y_axis=False)\n",
    "    torch.cuda.empty_cache()\n",
    "\n",
    "except Exception as e:\n",
    "    print(f\"모델 로드 중 오류 발생: {e}\")\n"
   ]
  },
  {
   "cell_type": "code",
   "execution_count": null,
   "metadata": {},
   "outputs": [],
   "source": []
  }
 ],
 "metadata": {
  "kernelspec": {
   "display_name": "base",
   "language": "python",
   "name": "python3"
  },
  "language_info": {
   "codemirror_mode": {
    "name": "ipython",
    "version": 3
   },
   "file_extension": ".py",
   "mimetype": "text/x-python",
   "name": "python",
   "nbconvert_exporter": "python",
   "pygments_lexer": "ipython3",
   "version": "3.9.7"
  }
 },
 "nbformat": 4,
 "nbformat_minor": 2
}
